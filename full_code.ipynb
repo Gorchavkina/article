{
 "cells": [
  {
   "cell_type": "code",
   "execution_count": 3,
   "metadata": {},
   "outputs": [
    {
     "name": "stdout",
     "output_type": "stream",
     "text": [
      "60.36458919999998\n"
     ]
    }
   ],
   "source": [
    "import numpy as np\n",
    "import matplotlib.pyplot as plt\n",
    "from scipy import linalg\n",
    "from tqdm import tqdm # progress indicator\n",
    "import time\n",
    "#import matplotlib\n",
    "#matplotlib.use(\"nbagg\")   #подключить эти пакеты для анимации\n",
    "\n",
    "t1 = time.perf_counter()\n",
    "#def main():\n",
    "S = 5000 # размерность матрицы    \n",
    "dx = 0.01 # шаг по сетке\n",
    "L = dx*(S+2)# длина ящика для нулевых краевых условий\n",
    "x = np.linspace(-L/2+dx, L/2-dx, S) # список x_i от -L/2+dx до L/2-dx\n",
    "k = 1/(2*dx**2) # типа волновой вектор для матрицы гам-на\n",
    "lq = 3\n",
    "EJ = 1\n",
    "T = 1 # весь интервал времени\n",
    "dt = 0.01 # шаг для у-я Паули\n",
    "Dt = 0.1 # шаг для изменения возмущения\n",
    "t = np.linspace(dt, T, int(T/dt)) # список всез точек по времени\n",
    "phix_start = 0 # нач-е значение внешнего потока\n",
    "phix_end = np.pi/10 # конечное\n",
    "phx = np.linspace(phix_start, phix_end, int(T/Dt)) # список значений внешнего потока\n",
    "phix = phx[0] # поток в нулевой момент времени\n",
    "gamma = 1 # типа коэффициент рения\n",
    "const = gamma*2*np.pi # константа ур-я Паули\n",
    "\n",
    "U = lambda phi: (phix - phi)**2/(2*lq) + 1 - np.cos(phi)\n",
    "v = U(x)\n",
    "U_comp = min(v[0], v[S-1]) # максимально допустимое зн-е энергии\n",
    "##############################################\n",
    "# матрица Гамильтониана\n",
    "##############################################\n",
    "h = np.zeros((S,S))\n",
    "for i in range(S-1):\n",
    "    h[i+1][i] = -1*k\n",
    "    h[i][i+1] = -1*k\n",
    "for i in range(S):\n",
    "    h[i][i] = 2*k + v[i]\n",
    "eigvals, eigvecs = linalg.eigh(h)\n",
    "border = 5     # 0.05*U_comp\n",
    "eigvals_new = list(filter(lambda x: x < U_comp - border, eigvals))\n",
    "N_trunc = len(eigvals_new) # уровень отсечения ФИКСИРОВАННЫЙ\n",
    "\n",
    "#########################################################\n",
    "# Заполнение матриц W\n",
    "#########################################################\n",
    "\n",
    "def squred_abs(n, m, x): # квадрат модуля матричного элемента x\n",
    "    n_ket = eigvecs[:,n]\n",
    "    m_bra = eigvecs[:,m] \n",
    "    integ = sum(n_ket*x*m_bra)\n",
    "    return np.abs(integ)**2\n",
    "\n",
    "W = np.zeros([N_trunc, N_trunc])\n",
    "#for i in tqdm(range(N_trunc)):\n",
    "for i in range(N_trunc):\n",
    "    for j in range(N_trunc):\n",
    "        if i<j: \n",
    "            W[i][j] = const*squred_abs(j, i, x)\n",
    "\n",
    "def pauli_vec_func(rho, W):  # принимает на вход распределение и W, на выходе  \n",
    "    res = []\n",
    "    for m in range(N_trunc):\n",
    "        plus = 0\n",
    "        minus = 0\n",
    "        for n in range(N_trunc): \n",
    "            plus += rho[n]*W[m][n]\n",
    "            minus += W[n][m] \n",
    "        minus = minus*rho[m]\n",
    "        res.append(plus - minus)\n",
    "    return np.array(res)\n",
    "print(time.perf_counter() - t1)"
   ]
  },
  {
   "cell_type": "markdown",
   "metadata": {},
   "source": [
    "Пусть мы иеем {$\\vec{b_1}$,..., $\\vec{b_n}$} - новый базис рамерности n. Он выражается через старый базис {$\\vec{a_1}$,..., $\\vec{a_n}$} как:\n",
    "\n",
    "\\begin{equation*}\n",
    " \\begin{cases}\n",
    "   \\alpha_{11}\\vec{a_1}+\\alpha_{21}\\vec{a_2}+..+\\alpha_{n1}\\vec{a_n}=\\vec{b_1}\n",
    "   \\\\\n",
    "   ..........\n",
    "   \\\\\n",
    "   \\alpha_{1n}\\vec{a_1}+\\alpha_{2n}\\vec{a_2}+..+\\alpha_{nn}\\vec{a_n}=\\vec{b_n},\n",
    " \\end{cases}\n",
    "\\end{equation*}\n",
    "\n",
    "где Alpha - матрица перехода от старого базиса к новому.\n",
    "В матричном виде система уравнений запишется как:\n",
    "\n",
    "$(\\vec{a_1}, \\vec{a_2},...,\\vec{a_n}) Alpha = (\\vec{b_1}, \\vec{b_2},...,\\vec{b_n})$. Тогда поиск матрицы перехода методом np.linalg.solve(a, b) осуществляется записью Alpha = np.linalg.solve(eigvecs, eigvecs_new).\n",
    "Вектор плотности в новом базисе: $rho_{new} = Alpha^{-1} rho_{old}$"
   ]
  },
  {
   "cell_type": "code",
   "execution_count": 2,
   "metadata": {},
   "outputs": [
    {
     "name": "stderr",
     "output_type": "stream",
     "text": [
      "  9%|███████▌                                                                           | 9/99 [00:02<00:25,  3.48it/s]"
     ]
    },
    {
     "ename": "KeyboardInterrupt",
     "evalue": "",
     "output_type": "error",
     "traceback": [
      "\u001b[1;31m---------------------------------------------------------------------------\u001b[0m",
      "\u001b[1;31mKeyboardInterrupt\u001b[0m                         Traceback (most recent call last)",
      "\u001b[1;32m<ipython-input-2-47a2b66f0258>\u001b[0m in \u001b[0;36m<module>\u001b[1;34m\u001b[0m\n\u001b[0;32m     26\u001b[0m         \u001b[1;32mfor\u001b[0m \u001b[0mi\u001b[0m \u001b[1;32min\u001b[0m \u001b[0mrange\u001b[0m\u001b[1;33m(\u001b[0m\u001b[0mS\u001b[0m\u001b[1;33m)\u001b[0m\u001b[1;33m:\u001b[0m\u001b[1;33m\u001b[0m\u001b[1;33m\u001b[0m\u001b[0m\n\u001b[0;32m     27\u001b[0m             \u001b[0mh\u001b[0m\u001b[1;33m[\u001b[0m\u001b[0mi\u001b[0m\u001b[1;33m]\u001b[0m\u001b[1;33m[\u001b[0m\u001b[0mi\u001b[0m\u001b[1;33m]\u001b[0m \u001b[1;33m=\u001b[0m \u001b[1;36m2\u001b[0m\u001b[1;33m*\u001b[0m\u001b[0mk\u001b[0m \u001b[1;33m+\u001b[0m \u001b[0mv\u001b[0m\u001b[1;33m[\u001b[0m\u001b[0mi\u001b[0m\u001b[1;33m]\u001b[0m\u001b[1;33m\u001b[0m\u001b[1;33m\u001b[0m\u001b[0m\n\u001b[1;32m---> 28\u001b[1;33m         \u001b[0meigvals_new\u001b[0m\u001b[1;33m,\u001b[0m \u001b[0meigvecs_new\u001b[0m \u001b[1;33m=\u001b[0m \u001b[0mlinalg\u001b[0m\u001b[1;33m.\u001b[0m\u001b[0meigh\u001b[0m\u001b[1;33m(\u001b[0m\u001b[0mh\u001b[0m\u001b[1;33m)\u001b[0m\u001b[1;33m\u001b[0m\u001b[1;33m\u001b[0m\u001b[0m\n\u001b[0m\u001b[0;32m     29\u001b[0m         \u001b[0mC\u001b[0m \u001b[1;33m=\u001b[0m \u001b[0mlinalg\u001b[0m\u001b[1;33m.\u001b[0m\u001b[0msolve\u001b[0m\u001b[1;33m(\u001b[0m\u001b[0meigvecs\u001b[0m\u001b[1;33m,\u001b[0m \u001b[0meigvecs_new\u001b[0m\u001b[1;33m)\u001b[0m\u001b[1;33m[\u001b[0m\u001b[1;33m:\u001b[0m\u001b[0mN_trunc\u001b[0m\u001b[1;33m,\u001b[0m \u001b[1;33m:\u001b[0m\u001b[0mN_trunc\u001b[0m\u001b[1;33m]\u001b[0m \u001b[1;31m# РАЗМЕРНОСТЬ!!!!!!!!!! ну и вообще сомнительно\u001b[0m\u001b[1;33m\u001b[0m\u001b[1;33m\u001b[0m\u001b[0m\n\u001b[0;32m     30\u001b[0m         \u001b[0mrho_curr\u001b[0m \u001b[1;33m=\u001b[0m \u001b[0mnp\u001b[0m\u001b[1;33m.\u001b[0m\u001b[0mdot\u001b[0m\u001b[1;33m(\u001b[0m\u001b[0mlinalg\u001b[0m\u001b[1;33m.\u001b[0m\u001b[0minv\u001b[0m\u001b[1;33m(\u001b[0m\u001b[0mC\u001b[0m\u001b[1;33m)\u001b[0m\u001b[1;33m,\u001b[0m\u001b[0mrho_curr\u001b[0m\u001b[1;33m)\u001b[0m\u001b[1;33m\u001b[0m\u001b[1;33m\u001b[0m\u001b[0m\n",
      "\u001b[1;32m~\\anaconda3\\lib\\site-packages\\scipy\\linalg\\decomp.py\u001b[0m in \u001b[0;36meigh\u001b[1;34m(a, b, lower, eigvals_only, overwrite_a, overwrite_b, turbo, eigvals, type, check_finite)\u001b[0m\n\u001b[0;32m    430\u001b[0m         \u001b[1;32mif\u001b[0m \u001b[0meigvals\u001b[0m \u001b[1;32mis\u001b[0m \u001b[1;32mNone\u001b[0m\u001b[1;33m:\u001b[0m\u001b[1;33m\u001b[0m\u001b[1;33m\u001b[0m\u001b[0m\n\u001b[0;32m    431\u001b[0m             w, v, info = evr(a1, uplo=uplo, jobz=_job, range=\"A\", il=1,\n\u001b[1;32m--> 432\u001b[1;33m                              iu=a1.shape[0], overwrite_a=overwrite_a)\n\u001b[0m\u001b[0;32m    433\u001b[0m         \u001b[1;32melse\u001b[0m\u001b[1;33m:\u001b[0m\u001b[1;33m\u001b[0m\u001b[1;33m\u001b[0m\u001b[0m\n\u001b[0;32m    434\u001b[0m             \u001b[1;33m(\u001b[0m\u001b[0mlo\u001b[0m\u001b[1;33m,\u001b[0m \u001b[0mhi\u001b[0m\u001b[1;33m)\u001b[0m \u001b[1;33m=\u001b[0m \u001b[0meigvals\u001b[0m\u001b[1;33m\u001b[0m\u001b[1;33m\u001b[0m\u001b[0m\n",
      "\u001b[1;31mKeyboardInterrupt\u001b[0m: "
     ]
    }
   ],
   "source": [
    "# основной блок по времени\n",
    "n_init = 0\n",
    "n_tt = int(Dt/dt)\n",
    "rho_init = np.zeros([N_trunc])\n",
    "rho_init[n_init] = 1\n",
    "rho_curr = rho_init # в у-е Паули подставляется начальное распределение\n",
    "s = 0 # счетчик по точкам phix\n",
    "\n",
    "for it in tqdm(range(1,len(t))):\n",
    "    if it%n_tt != 0: \n",
    "        k1 = pauli_vec_func(rho_curr, W)\n",
    "        k2 = pauli_vec_func(rho_curr + (dt/2)*k1, W)\n",
    "        k3 = pauli_vec_func(rho_curr + (dt/2)*k2, W)\n",
    "        k4 = pauli_vec_func(rho_curr + dt*k3, W)\n",
    "        rho_curr = rho_curr + dt*(k1 + 2*k2 + 2*k3 + k4)/6\n",
    "    else:\n",
    "        s += 1\n",
    "        phix = phx[s]\n",
    "        #x = np.linspace(-L/2+dx+phix, L/2-dx+phix, S)\n",
    "        U = lambda phi: (phix - phi)**2/(2*lq) + 1 - np.cos(phi)\n",
    "        v = U(x)\n",
    "        U_comp = min(v[0], v[S-1]) # максимально допустимое зн-е энергии\n",
    "        h = np.zeros((S,S))\n",
    "        for i in range(S-1):\n",
    "            h[i+1][i] = -1*k\n",
    "            h[i][i+1] = -1*k\n",
    "        for i in range(S):\n",
    "            h[i][i] = 2*k + v[i]\n",
    "        eigvals_new, eigvecs_new = linalg.eigh(h)\n",
    "        C = linalg.solve(eigvecs, eigvecs_new)[:N_trunc, :N_trunc] # РАЗМЕРНОСТЬ!!!!!!!!!! ну и вообще сомнительно\n",
    "        rho_curr = np.dot(linalg.inv(C),rho_curr)\n",
    "        eigvals, eigvecs = eigvals_new, eigvecs_new\n",
    "        rho_coor = np.zeros([S, S])\n",
    "        for i in range(N_trunc): # для выбранных уровней\n",
    "            rho_coor = rho_coor + np.array([eigvecs[:,i]]).T*eigvecs[:,i]*rho_curr[i]\n",
    "        W = np.zeros([N_trunc, N_trunc])\n",
    "        for i in range(N_trunc):\n",
    "            for j in range(N_trunc):\n",
    "                if i<j: \n",
    "                    W[i][j] = const*squred_abs(j, i, x)                                                                \n",
    "                                                                                   \n",
    "        plt.imshow(rho_coor)\n",
    "        plt.title('Time moment {}'.format(it*dt))\n",
    "        plt.colorbar()\n",
    "        plt.show()\n",
    "                                                                                   \n",
    "                                                                                   \n",
    "\n",
    "        \n",
    "         \n",
    "        "
   ]
  },
  {
   "cell_type": "code",
   "execution_count": 4,
   "metadata": {},
   "outputs": [],
   "source": [
    "# кусочек для проверки\n",
    "n_init = 0\n",
    "n_tt = int(Dt/dt)\n",
    "rho_init = np.zeros([N_trunc])\n",
    "rho_init[n_init] = 1\n",
    "rho_curr = rho_init # начальное распределение соот-т нулевому состоянию\n",
    "phix = np.pi/3 # новое значенеи потока\n",
    "#x = np.linspace(-L/2+dx+phix, L/2-dx+phix, S)\n",
    "U = lambda phi: (phix - phi)**2/(2*lq) + 1 - np.cos(phi)\n",
    "v = U(x)\n",
    "U_comp = min(v[0], v[S-1]) # максимально допустимое зн-е энергии\n",
    "h = np.zeros((S,S))\n",
    "for i in range(S-1):\n",
    "    h[i+1][i] = -1*k\n",
    "    h[i][i+1] = -1*k\n",
    "for i in range(S):\n",
    "    h[i][i] = 2*k + v[i]\n",
    "eigvals_new, eigvecs_new = linalg.eigh(h) # новые векторы\n",
    "C = linalg.solve(eigvecs, eigvecs_new)[:N_trunc, :N_trunc] # матрица перехода\n",
    "rho_curr = np.dot(linalg.inv(C),rho_curr) # вектор плотности в новом базисе\n",
    "eigvals, eigvecs = eigvals_new, eigvecs_new\n",
    "# кусочек построения координатной плотности\n",
    "rho_coor = np.zeros([S, S])\n",
    "for i in range(N_trunc): # для выбранных уровней\n",
    "    rho_coor = rho_coor + np.array([eigvecs[:,i]]).T*eigvecs[:,i]*rho_curr[i]\n",
    "W = np.zeros([N_trunc, N_trunc]) # перерасчет Wnm для нового состояния\n",
    "for i in range(N_trunc):\n",
    "    for j in range(N_trunc):\n",
    "        if i<j: \n",
    "            W[i][j] = const*squred_abs(j, i, x)                                                                "
   ]
  },
  {
   "cell_type": "code",
   "execution_count": 5,
   "metadata": {},
   "outputs": [
    {
     "data": {
      "image/png": "[encoded data removed]",
      "text/plain": [
       "<Figure size 432x288 with 2 Axes>"
      ]
     },
     "metadata": {
      "needs_background": "light"
     },
     "output_type": "display_data"
    }
   ],
   "source": [
    "# построение коорднатного распеределения (проблема: возможны отрицательные значения)\n",
    "plt.imshow(rho_coor)\n",
    "plt.title('Time moment {}'.format(it*dt))\n",
    "plt.colorbar()\n",
    "plt.show()"
   ]
  },
  {
   "cell_type": "code",
   "execution_count": 6,
   "metadata": {},
   "outputs": [
    {
     "data": {
      "image/png": "[encoded data removed]",
      "text/plain": [
       "<Figure size 432x288 with 1 Axes>"
      ]
     },
     "metadata": {
      "needs_background": "light"
     },
     "output_type": "display_data"
    }
   ],
   "source": [
    "# построение вектора плотности в новом базисе (проблема: принимает отрицательные значения)\n",
    "plt.plot(rho_curr)\n",
    "plt.show()"
   ]
  },
  {
   "cell_type": "code",
   "execution_count": 7,
   "metadata": {},
   "outputs": [
    {
     "data": {
      "text/plain": [
       "0.999999999999999"
      ]
     },
     "execution_count": 7,
     "metadata": {},
     "output_type": "execute_result"
    }
   ],
   "source": [
    "# не смотря на \"отрицательность\", норма сохраняется. ну и что дальше?\n",
    "np.sqrt(np.sum(rho_curr**2))"
   ]
  },
  {
   "cell_type": "code",
   "execution_count": null,
   "metadata": {},
   "outputs": [],
   "source": []
  }
 ],
 "metadata": {
  "kernelspec": {
   "display_name": "Python 3",
   "language": "python",
   "name": "python3"
  },
  "language_info": {
   "codemirror_mode": {
    "name": "ipython",
    "version": 3
   },
   "file_extension": ".py",
   "mimetype": "text/x-python",
   "name": "python",
   "nbconvert_exporter": "python",
   "pygments_lexer": "ipython3",
   "version": "3.7.6"
  }
 },
 "nbformat": 4,
 "nbformat_minor": 4
}
